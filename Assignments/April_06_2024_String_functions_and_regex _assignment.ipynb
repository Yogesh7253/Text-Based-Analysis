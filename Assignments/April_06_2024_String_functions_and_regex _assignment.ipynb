{
 "cells": [
  {
   "cell_type": "markdown",
   "id": "5133e404",
   "metadata": {},
   "source": [
    "# ASSIGNMENT 1"
   ]
  },
  {
   "cell_type": "markdown",
   "id": "48671b5d",
   "metadata": {},
   "source": [
    "# STRING FUNCTIONS "
   ]
  },
  {
   "cell_type": "code",
   "execution_count": 1,
   "id": "8ac876b1",
   "metadata": {},
   "outputs": [
    {
     "data": {
      "text/plain": [
       "'Hello'"
      ]
     },
     "execution_count": 1,
     "metadata": {},
     "output_type": "execute_result"
    }
   ],
   "source": [
    "a = 'Hello'\n",
    "a"
   ]
  },
  {
   "cell_type": "code",
   "execution_count": 2,
   "id": "65614cd1",
   "metadata": {},
   "outputs": [
    {
     "name": "stdout",
     "output_type": "stream",
     "text": [
      "llo\n"
     ]
    }
   ],
   "source": [
    "#Slicing\n",
    "\n",
    "b = \"Hello, World!\"\n",
    "print(b[2:5])"
   ]
  },
  {
   "cell_type": "code",
   "execution_count": 3,
   "id": "36024a47",
   "metadata": {},
   "outputs": [
    {
     "name": "stdout",
     "output_type": "stream",
     "text": [
      "13\n"
     ]
    }
   ],
   "source": [
    "#length\n",
    "\n",
    "a = \"Hello, World!\"\n",
    "print(len(a))"
   ]
  },
  {
   "cell_type": "code",
   "execution_count": 4,
   "id": "74388e94",
   "metadata": {},
   "outputs": [
    {
     "name": "stdout",
     "output_type": "stream",
     "text": [
      "HELLO, WORLD!\n"
     ]
    }
   ],
   "source": [
    "#upper \n",
    "\n",
    "print(a.upper())"
   ]
  },
  {
   "cell_type": "code",
   "execution_count": 5,
   "id": "e27548a0",
   "metadata": {},
   "outputs": [
    {
     "name": "stdout",
     "output_type": "stream",
     "text": [
      "hello, world!\n"
     ]
    }
   ],
   "source": [
    "#lower\n",
    "\n",
    "print(a.lower())"
   ]
  },
  {
   "cell_type": "code",
   "execution_count": 5,
   "id": "621555f6",
   "metadata": {},
   "outputs": [
    {
     "name": "stdout",
     "output_type": "stream",
     "text": [
      "Jello\n"
     ]
    }
   ],
   "source": [
    "#replace\n",
    "\n",
    "print(a.replace(\"H\", \"J\"))"
   ]
  },
  {
   "cell_type": "code",
   "execution_count": 7,
   "id": "c6e98e2b",
   "metadata": {},
   "outputs": [
    {
     "name": "stdout",
     "output_type": "stream",
     "text": [
      "Hello World\n"
     ]
    }
   ],
   "source": [
    "# concatenation\n",
    "\n",
    "a = \"Hello\"\n",
    "b = \"World\"\n",
    "c = a + \" \" + b\n",
    "print(c)"
   ]
  },
  {
   "cell_type": "code",
   "execution_count": 16,
   "id": "f97023ba",
   "metadata": {},
   "outputs": [
    {
     "name": "stdout",
     "output_type": "stream",
     "text": [
      "False\n"
     ]
    }
   ],
   "source": [
    "# isalnum()\n",
    "\n",
    "a = \"Hello World\"\n",
    "print(a.isalnum())"
   ]
  },
  {
   "cell_type": "code",
   "execution_count": 17,
   "id": "9201b1df",
   "metadata": {},
   "outputs": [
    {
     "name": "stdout",
     "output_type": "stream",
     "text": [
      "False\n"
     ]
    }
   ],
   "source": [
    "#isdigit()\n",
    "\n",
    "a = \"Hello World\"\n",
    "print(a.isdigit())"
   ]
  },
  {
   "cell_type": "code",
   "execution_count": 13,
   "id": "58670114",
   "metadata": {},
   "outputs": [
    {
     "name": "stdout",
     "output_type": "stream",
     "text": [
      "True\n"
     ]
    }
   ],
   "source": [
    "#isalpha()\n",
    "\n",
    "a = \"HelloWorld\"\n",
    "print(a.isalpha())"
   ]
  },
  {
   "cell_type": "code",
   "execution_count": 14,
   "id": "2cb09110",
   "metadata": {},
   "outputs": [
    {
     "name": "stdout",
     "output_type": "stream",
     "text": [
      "True\n"
     ]
    }
   ],
   "source": [
    "#islower()\n",
    "\n",
    "a = \"hello world\"\n",
    "print(a.islower())"
   ]
  },
  {
   "cell_type": "code",
   "execution_count": 15,
   "id": "c185d134",
   "metadata": {},
   "outputs": [
    {
     "name": "stdout",
     "output_type": "stream",
     "text": [
      "False\n"
     ]
    }
   ],
   "source": [
    "#isupper()\n",
    "\n",
    "a = \"hello world\"\n",
    "print(a.isupper())"
   ]
  },
  {
   "cell_type": "code",
   "execution_count": 19,
   "id": "61d7f662",
   "metadata": {},
   "outputs": [
    {
     "data": {
      "text/plain": [
       "'helloworld'"
      ]
     },
     "execution_count": 19,
     "metadata": {},
     "output_type": "execute_result"
    }
   ],
   "source": [
    "#lower\n",
    "\n",
    "a = \"HelloWorld\"\n",
    "b = a.lower()\n",
    "b"
   ]
  },
  {
   "cell_type": "code",
   "execution_count": 21,
   "id": "3e7e699e",
   "metadata": {},
   "outputs": [
    {
     "data": {
      "text/plain": [
       "'HelloWorld   '"
      ]
     },
     "execution_count": 21,
     "metadata": {},
     "output_type": "execute_result"
    }
   ],
   "source": [
    "#lstrip\n",
    "\n",
    "a = \"   HelloWorld   \"\n",
    "b = a.lstrip()\n",
    "b"
   ]
  },
  {
   "cell_type": "code",
   "execution_count": 22,
   "id": "c7745955",
   "metadata": {},
   "outputs": [
    {
     "data": {
      "text/plain": [
       "'   HelloWorld'"
      ]
     },
     "execution_count": 22,
     "metadata": {},
     "output_type": "execute_result"
    }
   ],
   "source": [
    "#rstrip\n",
    "\n",
    "a = \"   HelloWorld   \"\n",
    "b = a.rstrip()\n",
    "b"
   ]
  },
  {
   "cell_type": "code",
   "execution_count": 23,
   "id": "4908a2cd",
   "metadata": {},
   "outputs": [
    {
     "data": {
      "text/plain": [
       "'HelloWorld'"
      ]
     },
     "execution_count": 23,
     "metadata": {},
     "output_type": "execute_result"
    }
   ],
   "source": [
    "# strip\n",
    "\n",
    "a = \"   HelloWorld   \"\n",
    "b = a.strip()\n",
    "b"
   ]
  },
  {
   "cell_type": "code",
   "execution_count": 24,
   "id": "bc90a00d",
   "metadata": {},
   "outputs": [
    {
     "data": {
      "text/plain": [
       "True"
      ]
     },
     "execution_count": 24,
     "metadata": {},
     "output_type": "execute_result"
    }
   ],
   "source": [
    "# startswith\n",
    "\n",
    "a = \"HelloWorld\"\n",
    "a.startswith(\"He\")"
   ]
  },
  {
   "cell_type": "code",
   "execution_count": 25,
   "id": "4ff999a6",
   "metadata": {},
   "outputs": [
    {
     "data": {
      "text/plain": [
       "True"
      ]
     },
     "execution_count": 25,
     "metadata": {},
     "output_type": "execute_result"
    }
   ],
   "source": [
    "# endswith\n",
    "\n",
    "a = \"HelloWorld\"\n",
    "a.endswith(\"ld\")"
   ]
  },
  {
   "cell_type": "code",
   "execution_count": 27,
   "id": "88eb76ea",
   "metadata": {},
   "outputs": [
    {
     "data": {
      "text/plain": [
       "4"
      ]
     },
     "execution_count": 27,
     "metadata": {},
     "output_type": "execute_result"
    }
   ],
   "source": [
    "# find\n",
    "\n",
    "a = \"HelloWorld\"\n",
    "a.find(\"oWo\")"
   ]
  },
  {
   "cell_type": "code",
   "execution_count": 28,
   "id": "646f6312",
   "metadata": {},
   "outputs": [
    {
     "data": {
      "text/plain": [
       "'MelloWorld'"
      ]
     },
     "execution_count": 28,
     "metadata": {},
     "output_type": "execute_result"
    }
   ],
   "source": [
    "# replace\n",
    "\n",
    "a = \"HelloWorld\"\n",
    "a.replace('He','Me')"
   ]
  },
  {
   "cell_type": "code",
   "execution_count": 33,
   "id": "263f823a",
   "metadata": {},
   "outputs": [
    {
     "data": {
      "text/plain": [
       "'MelloWorld'"
      ]
     },
     "execution_count": 33,
     "metadata": {},
     "output_type": "execute_result"
    }
   ],
   "source": [
    "# replace\n",
    "\n",
    "a = \"HelloWorld\"\n",
    "a.replace('He','Me')"
   ]
  },
  {
   "cell_type": "code",
   "execution_count": 29,
   "id": "8b1c21ff",
   "metadata": {},
   "outputs": [
    {
     "data": {
      "text/plain": [
       "['HelloWorld']"
      ]
     },
     "execution_count": 29,
     "metadata": {},
     "output_type": "execute_result"
    }
   ],
   "source": [
    "# split()\n",
    "\n",
    "a = \"HelloWorld\"\n",
    "a.split()"
   ]
  },
  {
   "cell_type": "code",
   "execution_count": 30,
   "id": "6d58093a",
   "metadata": {},
   "outputs": [
    {
     "data": {
      "text/plain": [
       "['Hello', 'World']"
      ]
     },
     "execution_count": 30,
     "metadata": {},
     "output_type": "execute_result"
    }
   ],
   "source": [
    "# split()\n",
    "\n",
    "a = \"Hello,World\"\n",
    "a.split(',')"
   ]
  },
  {
   "cell_type": "markdown",
   "id": "ac5aa924",
   "metadata": {},
   "source": [
    "# REGULAR EXPRESSION"
   ]
  },
  {
   "cell_type": "code",
   "execution_count": 58,
   "id": "27ca695c",
   "metadata": {},
   "outputs": [],
   "source": [
    "#Importing Library\n",
    "import re  "
   ]
  },
  {
   "cell_type": "code",
   "execution_count": 59,
   "id": "92c8b9da",
   "metadata": {},
   "outputs": [
    {
     "data": {
      "text/plain": [
       "['yogeshy@sacredheart123.com']"
      ]
     },
     "execution_count": 59,
     "metadata": {},
     "output_type": "execute_result"
    }
   ],
   "source": [
    "# Finding Email\n",
    "\n",
    "def tokenize(mail):\n",
    "    return re.findall(r'^[a-zA-Z0-9._%+-]+@[a-zA-Z0-9.-]+\\.[a-zA-Z]{2,}$', mail)\n",
    "\n",
    "x = tokenize(\"yogeshy@sacredheart123.com\")\n",
    "x"
   ]
  },
  {
   "cell_type": "code",
   "execution_count": 60,
   "id": "b1aa78aa",
   "metadata": {},
   "outputs": [
    {
     "name": "stdout",
     "output_type": "stream",
     "text": [
      "True\n"
     ]
    }
   ],
   "source": [
    "# Validating Date\n",
    "\n",
    "def tokenize(date):\n",
    "    match = re.match(r'(0[1-9]|1[0-2])-(0[1-9]|[1-2][0-9]|3[0-1])-\\d{4}', date)\n",
    "    return bool(match)\n",
    "\n",
    "x = tokenize(\"01-13-2024\")\n",
    "print(x)"
   ]
  },
  {
   "cell_type": "code",
   "execution_count": 61,
   "id": "a68d9175",
   "metadata": {},
   "outputs": [
    {
     "data": {
      "text/plain": [
       "True"
      ]
     },
     "execution_count": 61,
     "metadata": {},
     "output_type": "execute_result"
    }
   ],
   "source": [
    "# Validating Phone Number\n",
    "\n",
    "def tokenize(phone):\n",
    "    match = re.match(r'^\\(?([0-9]{3})\\)?[-. ]?([0-9]{3})[-. ]?([0-9]{4})$',phone)\n",
    "    return bool(match)\n",
    "\n",
    "x = tokenize(\"123 456 7895\")\n",
    "x"
   ]
  },
  {
   "cell_type": "code",
   "execution_count": 62,
   "id": "fa3f81e3",
   "metadata": {},
   "outputs": [
    {
     "data": {
      "text/plain": [
       "True"
      ]
     },
     "execution_count": 62,
     "metadata": {},
     "output_type": "execute_result"
    }
   ],
   "source": [
    "# Validating Card\n",
    "\n",
    "def tokenize(card):\n",
    "    match = re.match(r'^^\\(?([0-9]{4})\\)?[-. ]?([0-9]{4})[-. ]?([0-9]{4})[-. ]?([0-9]{4})$',card)\n",
    "    return bool(match)\n",
    "\n",
    "x = tokenize(\"1234 5456 7895 5678\")\n",
    "x"
   ]
  },
  {
   "cell_type": "code",
   "execution_count": 63,
   "id": "b500ba41",
   "metadata": {},
   "outputs": [
    {
     "data": {
      "text/plain": [
       "['cat', 'rat']"
      ]
     },
     "execution_count": 63,
     "metadata": {},
     "output_type": "execute_result"
    }
   ],
   "source": [
    "# Finding words\n",
    "\n",
    "def tokenize(text):\n",
    "    return re.findall(r'\\b(cat|rat)\\b', text)\n",
    "x = tokenize(\"The cat sat on the mat. The rat slept on the mat.\")\n",
    "x"
   ]
  },
  {
   "cell_type": "code",
   "execution_count": 64,
   "id": "2f8756c3",
   "metadata": {},
   "outputs": [
    {
     "name": "stdout",
     "output_type": "stream",
     "text": [
      "['Homer Simpson', 'Marge Simpson']\n",
      "['Homer', 'Marge']\n"
     ]
    }
   ],
   "source": [
    "# Finding words\n",
    "\n",
    "def tokenize1(text):\n",
    "    return re.findall(r'Homer Simpson|Marge Simpson', text)\n",
    "def tokenize2(text):\n",
    "    return re.findall(r'(Homer|Marge) Simpson', text)\n",
    "x = tokenize1(\"Homer Williams Homer Simpson Marge Simpson\")\n",
    "print(x)\n",
    "x = tokenize2(\"Homer Williams Homer Simpson Marge Simpson\")\n",
    "print(x)"
   ]
  }
 ],
 "metadata": {
  "kernelspec": {
   "display_name": "Python 3 (ipykernel)",
   "language": "python",
   "name": "python3"
  },
  "language_info": {
   "codemirror_mode": {
    "name": "ipython",
    "version": 3
   },
   "file_extension": ".py",
   "mimetype": "text/x-python",
   "name": "python",
   "nbconvert_exporter": "python",
   "pygments_lexer": "ipython3",
   "version": "3.11.5"
  }
 },
 "nbformat": 4,
 "nbformat_minor": 5
}
